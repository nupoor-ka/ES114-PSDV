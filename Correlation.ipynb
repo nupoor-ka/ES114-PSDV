{
  "nbformat": 4,
  "nbformat_minor": 0,
  "metadata": {
    "colab": {
      "provenance": [],
      "authorship_tag": "ABX9TyP+3vVuf/peob4Bsd4pbeES",
      "include_colab_link": true
    },
    "kernelspec": {
      "name": "python3",
      "display_name": "Python 3"
    },
    "language_info": {
      "name": "python"
    }
  },
  "cells": [
    {
      "cell_type": "markdown",
      "metadata": {
        "id": "view-in-github",
        "colab_type": "text"
      },
      "source": [
        "<a href=\"https://colab.research.google.com/github/nupoor-ka/ES114-PSDV/blob/main/Correlation.ipynb\" target=\"_parent\"><img src=\"https://colab.research.google.com/assets/colab-badge.svg\" alt=\"Open In Colab\"/></a>"
      ]
    },
    {
      "cell_type": "markdown",
      "source": [
        "#IMPORTING RELEVANT LIBRARIES AND DATASET"
      ],
      "metadata": {
        "id": "qLGTFXoZhRYa"
      }
    },
    {
      "cell_type": "code",
      "execution_count": null,
      "metadata": {
        "id": "bQzhZWlctNLO"
      },
      "outputs": [],
      "source": [
        "import numpy as np\n",
        "import matplotlib.pyplot as plt\n",
        "import math\n",
        "import seaborn as sns\n",
        "import pandas as pd"
      ]
    },
    {
      "cell_type": "code",
      "source": [
        "data = sns.load_dataset(name = 'iris')"
      ],
      "metadata": {
        "id": "C77stJqcthME"
      },
      "execution_count": null,
      "outputs": []
    },
    {
      "cell_type": "markdown",
      "source": [
        "#FINDING MEAN AND VARIANCE OF ATTRIBUTES"
      ],
      "metadata": {
        "id": "hAa9O6pwhhOl"
      }
    },
    {
      "cell_type": "markdown",
      "source": [
        "##DEFINING FUNCTIONS"
      ],
      "metadata": {
        "id": "hMOWLYMfhppX"
      }
    },
    {
      "cell_type": "code",
      "source": [
        "def me(att):\n",
        "  x = np.array(att)\n",
        "  return np.sum(x)/len(att)"
      ],
      "metadata": {
        "id": "0c8CWioe9g8p"
      },
      "execution_count": null,
      "outputs": []
    },
    {
      "cell_type": "markdown",
      "source": [
        "The function me(att) is defined to find the mean or expectation, E[X], of a particular attribute.\n",
        "\n",
        "$E[X] = \\Large{\\frac{\\Sigma_{i=1}^n x_i}{n}}$, where $n$ is the sample size."
      ],
      "metadata": {
        "id": "JIjuT-7ZZIfp"
      }
    },
    {
      "cell_type": "code",
      "source": [
        "def va(att):\n",
        "  x = np.array(att)\n",
        "  a = x - me(x)\n",
        "  b = a*a\n",
        "  return (np.sum(b)/(len(b)-1))"
      ],
      "metadata": {
        "id": "7qZd36Xs-B85"
      },
      "execution_count": null,
      "outputs": []
    },
    {
      "cell_type": "markdown",
      "source": [
        "The function va(att) has been defined to find the variance, $\\sigma_x^2$, of a particular attribute.\n",
        "\n",
        "$\\sigma^2_x = E[(X - E[X])^2]$\n",
        "\n",
        "$\\sigma^2_x= E[X^2 - 2XE[X] +(E[X])^2]$\n",
        "\n",
        "$\\sigma^2_x= E[X^2] - 2(E[X])^2 + (E[X])^2$\n",
        "\n",
        "$\\sigma^2_x= E[X^2] - (E[X])^2$\n",
        "\n",
        "The use of (len(b) - 1) instead of just (len(b)) is Bessel's correction. Another function vaa(att) has been defined to calculate variance without Bessel's correction which is needed in later calculations which do not require it."
      ],
      "metadata": {
        "id": "XEhoFbpaaN07"
      }
    },
    {
      "cell_type": "code",
      "source": [
        "def vaa(att):\n",
        "  x = np.array(att)\n",
        "  a = x - me(x)\n",
        "  b = a*a\n",
        "  return (np.sum(b)/(len(b)))"
      ],
      "metadata": {
        "id": "Ihsh4iLuAVkb"
      },
      "execution_count": null,
      "outputs": []
    },
    {
      "cell_type": "code",
      "source": [
        "def mean_var(att):\n",
        "  l = att.split('_')\n",
        "  a = l[0] + ' ' + l[1]\n",
        "  print(a.title()+':')\n",
        "  print('Mean', a, '=', round(data[att].mean(), 2))\n",
        "  print('Variance in', a, '=',round(data[att].var(), 2))\n",
        "  print()"
      ],
      "metadata": {
        "id": "6vzLXa0LfVKy"
      },
      "execution_count": null,
      "outputs": []
    },
    {
      "cell_type": "markdown",
      "source": [
        "[string_name].split([char]) returns a list of words in the [string_name] separated by the character mentioned in the brackets, a space by default.\n",
        "For example, 'sepal,length'.split(',') returns ['sepal', 'length'].\n",
        "\n",
        "[string name].title() returns a new string with the first letter of every word capitalized. For example 'a new world'.title() returns 'A New World'.\n",
        "\n"
      ],
      "metadata": {
        "id": "CzErUsIqnFR1"
      }
    },
    {
      "cell_type": "markdown",
      "source": [
        "##DISPLAYING VALUES"
      ],
      "metadata": {
        "id": "wrNNlirohuj7"
      }
    },
    {
      "cell_type": "code",
      "source": [
        "mean_var('sepal_length')\n",
        "mean_var('sepal_width')\n",
        "mean_var('petal_length')\n",
        "mean_var('petal_width')"
      ],
      "metadata": {
        "colab": {
          "base_uri": "https://localhost:8080/"
        },
        "id": "J-yTqAqJfiFc",
        "outputId": "e3fe1eb5-2b62-401e-b643-1aec0ec547dd"
      },
      "execution_count": null,
      "outputs": [
        {
          "output_type": "stream",
          "name": "stdout",
          "text": [
            "Sepal Length:\n",
            "Mean sepal length = 5.84\n",
            "Variance in sepal length = 0.69\n",
            "\n",
            "Sepal Width:\n",
            "Mean sepal width = 3.06\n",
            "Variance in sepal width = 0.19\n",
            "\n",
            "Petal Length:\n",
            "Mean petal length = 3.76\n",
            "Variance in petal length = 3.12\n",
            "\n",
            "Petal Width:\n",
            "Mean petal width = 1.2\n",
            "Variance in petal width = 0.58\n",
            "\n"
          ]
        }
      ]
    },
    {
      "cell_type": "markdown",
      "source": [
        "#FINDING CORRELATION COEFFICIENTS OF ATTRIBUTES"
      ],
      "metadata": {
        "id": "5_qIiqWRhx_-"
      }
    },
    {
      "cell_type": "markdown",
      "source": [
        "##DEFINING FUNCTIONS"
      ],
      "metadata": {
        "id": "3ukikCEvje_9"
      }
    },
    {
      "cell_type": "markdown",
      "source": [
        "###DEFINING FUNCTION TO CALCULATE CORRELATION COEFFICIENTS"
      ],
      "metadata": {
        "id": "mlznOTbMh4Xa"
      }
    },
    {
      "cell_type": "code",
      "source": [
        "def corr_coeff(x, y):\n",
        "  n = len(x)\n",
        "  a = me(x)\n",
        "  b = me(y)\n",
        "  c = me(x*y)\n",
        "  cov_xy = c - a*b\n",
        "  sigx = math.sqrt(vaa(x))\n",
        "  sigy = math.sqrt(vaa(y))\n",
        "  r = (cov_xy)/(sigx*sigy)\n",
        "  return r"
      ],
      "metadata": {
        "id": "r13fkLLY8DPY"
      },
      "execution_count": null,
      "outputs": []
    },
    {
      "cell_type": "markdown",
      "source": [
        "Correlation coefficient, $\\rho_{X, Y}$, is a measure of the degree of linear correlation between two random variables X and Y. Its value ranges from -1 to 1, with 1 being a perfect positive linear correlation, 0 being no correlation at all and -1 being a perfect negative linear correlation.\n",
        "\n",
        "$ \\rho _{X, Y} = \\Large{\\frac {cov(X, Y)}{\\sigma _X \\sigma _Y}}$\n",
        "\n",
        "Here,\n",
        "\n",
        "$cov(X, Y)$ is the covariance of the two variables X and Y, stored as cov_xy\n",
        "\n",
        "$cov(X, Y) = E[(X - E[X])(Y - E[Y])] = E[XY] - E[X]E[Y]$\n",
        "\n",
        "$\\sigma_X$ is the standard deviation of X, stored as sigx\n",
        "\n",
        "$\\sigma_X = \\sqrt{E[X^2] - (E[X])^2} = \\sqrt{\\sigma^2_X}$\n",
        "\n",
        "$\\sigma_Y$ is the standard deviation of Y, stored as sigy\n",
        "\n",
        "$\\sigma_Y = \\sqrt{E[Y^2] - (E[Y])^2} = \\sqrt{\\sigma^2_Y}$\n",
        "\n",
        "Therefore, the correlation coefficient can also be written as\n",
        "\n",
        "$ \\rho _{X, Y} = \\Large{\\frac {E[XY] - E[X]E[Y]}{\\sqrt{E[X^2] - (E[X])^2}{\\sqrt{E[Y^2] - (E[Y])^2}}}}$"
      ],
      "metadata": {
        "id": "lEq9_nb-xUA5"
      }
    },
    {
      "cell_type": "markdown",
      "source": [
        "###DEFINING FUNCTION TO DISPLAY CORRELATION COEFFICIENTS OF DIFFERENT PAIRS OF ATTRIBUTES"
      ],
      "metadata": {
        "id": "ArGfscA4h_iB"
      }
    },
    {
      "cell_type": "code",
      "source": [
        "def get_ord_r(ls, name):\n",
        "  ds = {}\n",
        "  for i in range(len(ls)):\n",
        "    for j in range(i+1, len(ls)):\n",
        "      pair = name[i]+' and '+name[j]\n",
        "      coeff = corr_coeff(ls[i], ls[j])\n",
        "      ds[coeff] = pair\n",
        "  l = list(ds.keys())\n",
        "  l.sort(reverse = True)\n",
        "  print('Pairs of attributes arranged in descending order of their correlation coefficients:')\n",
        "  for i in l:\n",
        "    print(ds[i],':', round(i, 2))"
      ],
      "metadata": {
        "id": "SaLrI8ZBSQgs"
      },
      "execution_count": null,
      "outputs": []
    },
    {
      "cell_type": "markdown",
      "source": [
        "### DEFINING FUNCTION TO DISPLAY CORRELATION COEFFICIENTS ACCORDING TO DIFFERENT SPECIES"
      ],
      "metadata": {
        "id": "CMR7hdubjUWC"
      }
    },
    {
      "cell_type": "code",
      "source": [
        "def disp(spec):\n",
        "  if spec == 'all':\n",
        "    ls = [np.array(data['sepal_length']), np.array(data['sepal_width']), np.array(data['petal_length']), np.array(data['petal_width'])]\n",
        "  else:\n",
        "    ls = [np.array(data['sepal_length'][data['species'] == spec]), np.array(data['sepal_width'][data['species'] == spec]), np.array(data['petal_length'][data['species'] == spec]), np.array(data['petal_width'][data['species'] == spec])]\n",
        "  name = ['Sepal Length', 'Sepal Width', 'Petal Length', 'Petal Width']\n",
        "  print(spec.title(), 'Flowers')\n",
        "  print()\n",
        "  get_ord_r(ls, name)"
      ],
      "metadata": {
        "id": "eP4Y4IhHdIDD"
      },
      "execution_count": null,
      "outputs": []
    },
    {
      "cell_type": "code",
      "source": [
        "data['species'].unique()"
      ],
      "metadata": {
        "colab": {
          "base_uri": "https://localhost:8080/"
        },
        "id": "xPWeQIVVuH6s",
        "outputId": "7a4a4214-5a11-44c6-a121-029e8451fa12"
      },
      "execution_count": null,
      "outputs": [
        {
          "output_type": "execute_result",
          "data": {
            "text/plain": [
              "array(['setosa', 'versicolor', 'virginica'], dtype=object)"
            ]
          },
          "metadata": {},
          "execution_count": 11
        }
      ]
    },
    {
      "cell_type": "markdown",
      "source": [
        "##DISPLAYING VALUES"
      ],
      "metadata": {
        "id": "A5lQttY3jtMO"
      }
    },
    {
      "cell_type": "markdown",
      "source": [
        "###ALL FLOWERS"
      ],
      "metadata": {
        "id": "ydtHqNnlkfIn"
      }
    },
    {
      "cell_type": "code",
      "source": [
        "disp('all')"
      ],
      "metadata": {
        "colab": {
          "base_uri": "https://localhost:8080/"
        },
        "id": "xRqH0murerAm",
        "outputId": "4a79a724-f8d4-4592-cf37-9056f6ee9c8d"
      },
      "execution_count": null,
      "outputs": [
        {
          "output_type": "stream",
          "name": "stdout",
          "text": [
            "All Flowers\n",
            "\n",
            "Pairs of attributes arranged in descending order of their correlation coefficients:\n",
            "Petal Length and Petal Width : 0.96\n",
            "Sepal Length and Petal Length : 0.87\n",
            "Sepal Length and Petal Width : 0.82\n",
            "Sepal Length and Sepal Width : -0.12\n",
            "Sepal Width and Petal Width : -0.37\n",
            "Sepal Width and Petal Length : -0.43\n"
          ]
        }
      ]
    },
    {
      "cell_type": "markdown",
      "source": [
        "###SETOSA FLOWERS"
      ],
      "metadata": {
        "id": "I_0p_Wisj0Km"
      }
    },
    {
      "cell_type": "code",
      "source": [
        "disp('setosa')"
      ],
      "metadata": {
        "colab": {
          "base_uri": "https://localhost:8080/"
        },
        "id": "8AtZJJ3jeu5h",
        "outputId": "b255417e-546b-4250-f042-6f20a6392d39"
      },
      "execution_count": null,
      "outputs": [
        {
          "output_type": "stream",
          "name": "stdout",
          "text": [
            "Setosa Flowers\n",
            "\n",
            "Pairs of attributes arranged in descending order of their correlation coefficients:\n",
            "Sepal Length and Sepal Width : 0.74\n",
            "Petal Length and Petal Width : 0.33\n",
            "Sepal Length and Petal Width : 0.28\n",
            "Sepal Length and Petal Length : 0.27\n",
            "Sepal Width and Petal Width : 0.23\n",
            "Sepal Width and Petal Length : 0.18\n"
          ]
        }
      ]
    },
    {
      "cell_type": "markdown",
      "source": [
        "###VERSICOLOR FLOWERS"
      ],
      "metadata": {
        "id": "Eg6rVZ9Pj3Pg"
      }
    },
    {
      "cell_type": "code",
      "source": [
        "disp('versicolor')"
      ],
      "metadata": {
        "colab": {
          "base_uri": "https://localhost:8080/"
        },
        "id": "21XrrkgUe8lw",
        "outputId": "c8d24a0a-89ab-478b-b0df-17f11b93b7c9"
      },
      "execution_count": null,
      "outputs": [
        {
          "output_type": "stream",
          "name": "stdout",
          "text": [
            "Versicolor Flowers\n",
            "\n",
            "Pairs of attributes arranged in descending order of their correlation coefficients:\n",
            "Petal Length and Petal Width : 0.79\n",
            "Sepal Length and Petal Length : 0.75\n",
            "Sepal Width and Petal Width : 0.66\n",
            "Sepal Width and Petal Length : 0.56\n",
            "Sepal Length and Petal Width : 0.55\n",
            "Sepal Length and Sepal Width : 0.53\n"
          ]
        }
      ]
    },
    {
      "cell_type": "markdown",
      "source": [
        "###VIRGINICA FLOWERS"
      ],
      "metadata": {
        "id": "l771JLJRj6Lv"
      }
    },
    {
      "cell_type": "code",
      "source": [
        "disp('virginica')"
      ],
      "metadata": {
        "colab": {
          "base_uri": "https://localhost:8080/"
        },
        "id": "mRcTBXfKe_fq",
        "outputId": "359e28ad-adf0-4dee-ede5-61c692809ee7"
      },
      "execution_count": null,
      "outputs": [
        {
          "output_type": "stream",
          "name": "stdout",
          "text": [
            "Virginica Flowers\n",
            "\n",
            "Pairs of attributes arranged in descending order of their correlation coefficients:\n",
            "Sepal Length and Petal Length : 0.86\n",
            "Sepal Width and Petal Width : 0.54\n",
            "Sepal Length and Sepal Width : 0.46\n",
            "Sepal Width and Petal Length : 0.4\n",
            "Petal Length and Petal Width : 0.32\n",
            "Sepal Length and Petal Width : 0.28\n"
          ]
        }
      ]
    }
  ]
}