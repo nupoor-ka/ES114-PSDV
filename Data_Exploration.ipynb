{
  "cells": [
    {
      "cell_type": "markdown",
      "metadata": {
        "id": "view-in-github",
        "colab_type": "text"
      },
      "source": [
        "<a href=\"https://colab.research.google.com/github/nupoor-ka/ES114-PSDV/blob/main/Data_Exploration.ipynb\" target=\"_parent\"><img src=\"https://colab.research.google.com/assets/colab-badge.svg\" alt=\"Open In Colab\"/></a>"
      ]
    },
    {
      "cell_type": "markdown",
      "metadata": {
        "id": "_YPN-B-MWmED"
      },
      "source": [
        "#IMPORTING DATA AND RELEVANT LIBRARIES"
      ]
    },
    {
      "cell_type": "code",
      "execution_count": null,
      "metadata": {
        "id": "OywyRmCyWcUK"
      },
      "outputs": [],
      "source": [
        "import numpy as np\n",
        "import math\n",
        "import matplotlib as mpl\n",
        "import matplotlib.pyplot as plt"
      ]
    },
    {
      "cell_type": "code",
      "execution_count": null,
      "metadata": {
        "colab": {
          "base_uri": "https://localhost:8080/"
        },
        "id": "mikiEjj-QURJ",
        "outputId": "718eea5b-69ff-416e-cc7f-abafb329767a"
      },
      "outputs": [
        {
          "output_type": "stream",
          "name": "stderr",
          "text": [
            "/usr/local/lib/python3.10/dist-packages/openpyxl/worksheet/_reader.py:329: UserWarning: Unknown extension is not supported and will be removed\n",
            "  warn(msg)\n",
            "/usr/local/lib/python3.10/dist-packages/openpyxl/worksheet/_reader.py:329: UserWarning: Unknown extension is not supported and will be removed\n",
            "  warn(msg)\n",
            "/usr/local/lib/python3.10/dist-packages/openpyxl/worksheet/_reader.py:329: UserWarning: Unknown extension is not supported and will be removed\n",
            "  warn(msg)\n",
            "/usr/local/lib/python3.10/dist-packages/openpyxl/worksheet/_reader.py:329: UserWarning: Unknown extension is not supported and will be removed\n",
            "  warn(msg)\n"
          ]
        }
      ],
      "source": [
        "import pandas as pd\n",
        "df_00 = pd.read_excel('https://query.data.world/s/quj3umc2iggptkletnxuksm6iqxqih?dws=00000')\n",
        "df_01 = pd.read_excel('https://query.data.world/s/ogxe6vuhnmfdfhvhznbcx6afxegm3y?dws=00000')\n",
        "df_02 = pd.read_excel('https://query.data.world/s/nr4xirpgdpaardgvh4dckxqmch3z6p?dws=00000')\n",
        "df_03 = pd.read_excel('https://query.data.world/s/h5s2nfh3webdmfuenlqfip3wnnph4q?dws=00000')\n",
        "df_04 = pd.read_excel('https://query.data.world/s/hc4vvzszbs5t7tfgttzkabphho642c?dws=00000')\n",
        "df_05 = pd.read_excel('https://query.data.world/s/2j4qzahjsd2z7obgrigxw72rfutwyk?dws=00000')\n",
        "df_06 = pd.read_excel('https://query.data.world/s/z7b5zed5otzw5zblldwsif5rsyu36z?dws=00000')\n",
        "df_07 = pd.read_excel('https://query.data.world/s/5auqcyf3als4jmgtvfwyejzqfqmaeh?dws=00000')\n",
        "df_08 = pd.read_excel('https://query.data.world/s/2lypipnzstx7lrmlyn34xcsn7svr4e?dws=00000')\n",
        "df_09 = pd.read_excel('https://query.data.world/s/dkv4fqi467enqdwcugmnyvrqpzsz4g?dws=00000')\n",
        "df_10 = pd.read_excel('https://query.data.world/s/y6dcsluff45mhh2nwawdpsnkbwsn66?dws=00000')\n",
        "df_11 = pd.read_excel('https://query.data.world/s/mh37oqwyioufjxp2k7nfvaawjfsjtj?dws=00000')\n",
        "df_12 = pd.read_excel('https://query.data.world/s/qcpj5kgkvqi4jjbz2otq6edrq5h5y7?dws=00000')\n",
        "df_13 = pd.read_excel('https://query.data.world/s/ccv6uy5amoggjpqjv5iq5wkxiswtxt?dws=00000')\n",
        "df_14 = pd.read_excel('https://query.data.world/s/nyatarweyps4dtceifroenf6jqegk7?dws=00000')\n",
        "df_15 = pd.read_excel('https://query.data.world/s/oprwy5wrz7mqmyqkzoelo25zae6s5o?dws=00000')\n",
        "df_16 = pd.read_excel('https://query.data.world/s/n2isdk4xvxhepgpfqcv5gndfowknbr?dws=00000')\n",
        "df_17 = pd.read_excel('https://query.data.world/s/nbx5pzkkba7d2222neil6vhakitpb6?dws=00000')\n",
        "df_18 = pd.read_excel('https://query.data.world/s/de7dzqnmptnjilubthhyzcwll6mdr6?dws=00000')\n",
        "df_19 = pd.read_excel('https://query.data.world/s/qhvezkyf5nymwgd4c4iajdgmpoadb5?dws=00000')\n",
        "df_20 = pd.read_excel('https://query.data.world/s/rzddgo2ho7xqjgo5leyhmsutg2dzkn?dws=00000')\n",
        "df_21 = pd.read_excel('https://query.data.world/s/26sdoyg52t4uga2445vkooyfn6soss?dws=00000')\n",
        "df_22 = pd.read_excel('https://query.data.world/s/4ycmqz7ap4i4pjhlqw7bpqi3jzotui?dws=00000')\n",
        "df_23 = pd.read_excel('https://query.data.world/s/amye5e3o2eergtuq3mvutidk6htduv?dws=00000')\n",
        "df_24 = pd.read_excel('https://query.data.world/s/53qolpcrhm43smhxxtwxobj5nyinql?dws=00000')\n",
        "df_pl = pd.read_csv('https://query.data.world/s/nqneyna65ogbmaoxhafkw4dekwkin7?dws=00000')"
      ]
    },
    {
      "cell_type": "code",
      "execution_count": null,
      "metadata": {
        "id": "xbJ12Sa3YEbL"
      },
      "outputs": [],
      "source": [
        "l = [df_00, df_01, df_02, df_03, df_04, df_05, df_06, df_07, df_08, df_09, df_10, df_11, df_12, df_13, df_14, df_15, df_16, df_17, df_18, df_19, df_20, df_21, df_22, df_23, df_24]"
      ]
    },
    {
      "cell_type": "code",
      "execution_count": null,
      "metadata": {
        "id": "ljYNKlUXIpNQ"
      },
      "outputs": [],
      "source": [
        "for df in l:\n",
        "  df['Winner'] = df['Winner'].str.strip()\n",
        "  df['Loser'] = df['Loser'].str.strip()"
      ]
    },
    {
      "cell_type": "code",
      "execution_count": null,
      "metadata": {
        "colab": {
          "base_uri": "https://localhost:8080/"
        },
        "id": "1KUF50L2ZTo0",
        "outputId": "825fe2cf-8520-410e-84e8-f9b9cea4cc5e"
      },
      "outputs": [
        {
          "output_type": "execute_result",
          "data": {
            "text/plain": [
              "Index(['ATP', 'Location', 'Tournament', 'Date', 'Series', 'Court', 'Surface',\n",
              "       'Round', 'Best of', 'Winner', 'Loser', 'WRank', 'LRank', 'W1', 'L1',\n",
              "       'W2', 'L2', 'W3', 'L3', 'W4', 'L4', 'W5', 'L5', 'Wsets', 'Lsets',\n",
              "       'Comment'],\n",
              "      dtype='object')"
            ]
          },
          "metadata": {},
          "execution_count": 6
        }
      ],
      "source": [
        "df_00.columns"
      ]
    },
    {
      "cell_type": "code",
      "source": [
        "df_00.head(5)"
      ],
      "metadata": {
        "colab": {
          "base_uri": "https://localhost:8080/",
          "height": 446
        },
        "id": "hmJm8joAr87p",
        "outputId": "063fa4b8-0bc5-40af-b5c5-d18ccc80a0a2"
      },
      "execution_count": null,
      "outputs": [
        {
          "output_type": "execute_result",
          "data": {
            "text/plain": [
              "   ATP  Location                          Tournament       Date  \\\n",
              "0    1  Adelaide  Australian Hardcourt Championships 2000-01-03   \n",
              "1    1  Adelaide  Australian Hardcourt Championships 2000-01-03   \n",
              "2    1  Adelaide  Australian Hardcourt Championships 2000-01-03   \n",
              "3    1  Adelaide  Australian Hardcourt Championships 2000-01-03   \n",
              "4    1  Adelaide  Australian Hardcourt Championships 2000-01-03   \n",
              "\n",
              "          Series    Court Surface      Round  Best of       Winner  ...   L2  \\\n",
              "0  International  Outdoor    Hard  1st Round        3   Dosedel S.  ...  2.0   \n",
              "1  International  Outdoor    Hard  1st Round        3   Enqvist T.  ...  3.0   \n",
              "2  International  Outdoor    Hard  1st Round        3    Escude N.  ...  5.0   \n",
              "3  International  Outdoor    Hard  1st Round        3   Federer R.  ...  4.0   \n",
              "4  International  Outdoor    Hard  1st Round        3  Fromberg R.  ...  7.0   \n",
              "\n",
              "    W3   L3  W4  L4  W5  L5  Wsets  Lsets    Comment  \n",
              "0  NaN  NaN NaN NaN NaN NaN      2      0  Completed  \n",
              "1  NaN  NaN NaN NaN NaN NaN      2      0  Completed  \n",
              "2  6.0  3.0 NaN NaN NaN NaN      2      1  Completed  \n",
              "3  NaN  NaN NaN NaN NaN NaN      2      0  Completed  \n",
              "4  6.0  4.0 NaN NaN NaN NaN      2      1  Completed  \n",
              "\n",
              "[5 rows x 26 columns]"
            ],
            "text/html": [
              "\n",
              "  <div id=\"df-98b1bec9-4c90-4a1f-b3d7-0a89dc6f9e0e\" class=\"colab-df-container\">\n",
              "    <div>\n",
              "<style scoped>\n",
              "    .dataframe tbody tr th:only-of-type {\n",
              "        vertical-align: middle;\n",
              "    }\n",
              "\n",
              "    .dataframe tbody tr th {\n",
              "        vertical-align: top;\n",
              "    }\n",
              "\n",
              "    .dataframe thead th {\n",
              "        text-align: right;\n",
              "    }\n",
              "</style>\n",
              "<table border=\"1\" class=\"dataframe\">\n",
              "  <thead>\n",
              "    <tr style=\"text-align: right;\">\n",
              "      <th></th>\n",
              "      <th>ATP</th>\n",
              "      <th>Location</th>\n",
              "      <th>Tournament</th>\n",
              "      <th>Date</th>\n",
              "      <th>Series</th>\n",
              "      <th>Court</th>\n",
              "      <th>Surface</th>\n",
              "      <th>Round</th>\n",
              "      <th>Best of</th>\n",
              "      <th>Winner</th>\n",
              "      <th>...</th>\n",
              "      <th>L2</th>\n",
              "      <th>W3</th>\n",
              "      <th>L3</th>\n",
              "      <th>W4</th>\n",
              "      <th>L4</th>\n",
              "      <th>W5</th>\n",
              "      <th>L5</th>\n",
              "      <th>Wsets</th>\n",
              "      <th>Lsets</th>\n",
              "      <th>Comment</th>\n",
              "    </tr>\n",
              "  </thead>\n",
              "  <tbody>\n",
              "    <tr>\n",
              "      <th>0</th>\n",
              "      <td>1</td>\n",
              "      <td>Adelaide</td>\n",
              "      <td>Australian Hardcourt Championships</td>\n",
              "      <td>2000-01-03</td>\n",
              "      <td>International</td>\n",
              "      <td>Outdoor</td>\n",
              "      <td>Hard</td>\n",
              "      <td>1st Round</td>\n",
              "      <td>3</td>\n",
              "      <td>Dosedel S.</td>\n",
              "      <td>...</td>\n",
              "      <td>2.0</td>\n",
              "      <td>NaN</td>\n",
              "      <td>NaN</td>\n",
              "      <td>NaN</td>\n",
              "      <td>NaN</td>\n",
              "      <td>NaN</td>\n",
              "      <td>NaN</td>\n",
              "      <td>2</td>\n",
              "      <td>0</td>\n",
              "      <td>Completed</td>\n",
              "    </tr>\n",
              "    <tr>\n",
              "      <th>1</th>\n",
              "      <td>1</td>\n",
              "      <td>Adelaide</td>\n",
              "      <td>Australian Hardcourt Championships</td>\n",
              "      <td>2000-01-03</td>\n",
              "      <td>International</td>\n",
              "      <td>Outdoor</td>\n",
              "      <td>Hard</td>\n",
              "      <td>1st Round</td>\n",
              "      <td>3</td>\n",
              "      <td>Enqvist T.</td>\n",
              "      <td>...</td>\n",
              "      <td>3.0</td>\n",
              "      <td>NaN</td>\n",
              "      <td>NaN</td>\n",
              "      <td>NaN</td>\n",
              "      <td>NaN</td>\n",
              "      <td>NaN</td>\n",
              "      <td>NaN</td>\n",
              "      <td>2</td>\n",
              "      <td>0</td>\n",
              "      <td>Completed</td>\n",
              "    </tr>\n",
              "    <tr>\n",
              "      <th>2</th>\n",
              "      <td>1</td>\n",
              "      <td>Adelaide</td>\n",
              "      <td>Australian Hardcourt Championships</td>\n",
              "      <td>2000-01-03</td>\n",
              "      <td>International</td>\n",
              "      <td>Outdoor</td>\n",
              "      <td>Hard</td>\n",
              "      <td>1st Round</td>\n",
              "      <td>3</td>\n",
              "      <td>Escude N.</td>\n",
              "      <td>...</td>\n",
              "      <td>5.0</td>\n",
              "      <td>6.0</td>\n",
              "      <td>3.0</td>\n",
              "      <td>NaN</td>\n",
              "      <td>NaN</td>\n",
              "      <td>NaN</td>\n",
              "      <td>NaN</td>\n",
              "      <td>2</td>\n",
              "      <td>1</td>\n",
              "      <td>Completed</td>\n",
              "    </tr>\n",
              "    <tr>\n",
              "      <th>3</th>\n",
              "      <td>1</td>\n",
              "      <td>Adelaide</td>\n",
              "      <td>Australian Hardcourt Championships</td>\n",
              "      <td>2000-01-03</td>\n",
              "      <td>International</td>\n",
              "      <td>Outdoor</td>\n",
              "      <td>Hard</td>\n",
              "      <td>1st Round</td>\n",
              "      <td>3</td>\n",
              "      <td>Federer R.</td>\n",
              "      <td>...</td>\n",
              "      <td>4.0</td>\n",
              "      <td>NaN</td>\n",
              "      <td>NaN</td>\n",
              "      <td>NaN</td>\n",
              "      <td>NaN</td>\n",
              "      <td>NaN</td>\n",
              "      <td>NaN</td>\n",
              "      <td>2</td>\n",
              "      <td>0</td>\n",
              "      <td>Completed</td>\n",
              "    </tr>\n",
              "    <tr>\n",
              "      <th>4</th>\n",
              "      <td>1</td>\n",
              "      <td>Adelaide</td>\n",
              "      <td>Australian Hardcourt Championships</td>\n",
              "      <td>2000-01-03</td>\n",
              "      <td>International</td>\n",
              "      <td>Outdoor</td>\n",
              "      <td>Hard</td>\n",
              "      <td>1st Round</td>\n",
              "      <td>3</td>\n",
              "      <td>Fromberg R.</td>\n",
              "      <td>...</td>\n",
              "      <td>7.0</td>\n",
              "      <td>6.0</td>\n",
              "      <td>4.0</td>\n",
              "      <td>NaN</td>\n",
              "      <td>NaN</td>\n",
              "      <td>NaN</td>\n",
              "      <td>NaN</td>\n",
              "      <td>2</td>\n",
              "      <td>1</td>\n",
              "      <td>Completed</td>\n",
              "    </tr>\n",
              "  </tbody>\n",
              "</table>\n",
              "<p>5 rows × 26 columns</p>\n",
              "</div>\n",
              "    <div class=\"colab-df-buttons\">\n",
              "\n",
              "  <div class=\"colab-df-container\">\n",
              "    <button class=\"colab-df-convert\" onclick=\"convertToInteractive('df-98b1bec9-4c90-4a1f-b3d7-0a89dc6f9e0e')\"\n",
              "            title=\"Convert this dataframe to an interactive table.\"\n",
              "            style=\"display:none;\">\n",
              "\n",
              "  <svg xmlns=\"http://www.w3.org/2000/svg\" height=\"24px\" viewBox=\"0 -960 960 960\">\n",
              "    <path d=\"M120-120v-720h720v720H120Zm60-500h600v-160H180v160Zm220 220h160v-160H400v160Zm0 220h160v-160H400v160ZM180-400h160v-160H180v160Zm440 0h160v-160H620v160ZM180-180h160v-160H180v160Zm440 0h160v-160H620v160Z\"/>\n",
              "  </svg>\n",
              "    </button>\n",
              "\n",
              "  <style>\n",
              "    .colab-df-container {\n",
              "      display:flex;\n",
              "      gap: 12px;\n",
              "    }\n",
              "\n",
              "    .colab-df-convert {\n",
              "      background-color: #E8F0FE;\n",
              "      border: none;\n",
              "      border-radius: 50%;\n",
              "      cursor: pointer;\n",
              "      display: none;\n",
              "      fill: #1967D2;\n",
              "      height: 32px;\n",
              "      padding: 0 0 0 0;\n",
              "      width: 32px;\n",
              "    }\n",
              "\n",
              "    .colab-df-convert:hover {\n",
              "      background-color: #E2EBFA;\n",
              "      box-shadow: 0px 1px 2px rgba(60, 64, 67, 0.3), 0px 1px 3px 1px rgba(60, 64, 67, 0.15);\n",
              "      fill: #174EA6;\n",
              "    }\n",
              "\n",
              "    .colab-df-buttons div {\n",
              "      margin-bottom: 4px;\n",
              "    }\n",
              "\n",
              "    [theme=dark] .colab-df-convert {\n",
              "      background-color: #3B4455;\n",
              "      fill: #D2E3FC;\n",
              "    }\n",
              "\n",
              "    [theme=dark] .colab-df-convert:hover {\n",
              "      background-color: #434B5C;\n",
              "      box-shadow: 0px 1px 3px 1px rgba(0, 0, 0, 0.15);\n",
              "      filter: drop-shadow(0px 1px 2px rgba(0, 0, 0, 0.3));\n",
              "      fill: #FFFFFF;\n",
              "    }\n",
              "  </style>\n",
              "\n",
              "    <script>\n",
              "      const buttonEl =\n",
              "        document.querySelector('#df-98b1bec9-4c90-4a1f-b3d7-0a89dc6f9e0e button.colab-df-convert');\n",
              "      buttonEl.style.display =\n",
              "        google.colab.kernel.accessAllowed ? 'block' : 'none';\n",
              "\n",
              "      async function convertToInteractive(key) {\n",
              "        const element = document.querySelector('#df-98b1bec9-4c90-4a1f-b3d7-0a89dc6f9e0e');\n",
              "        const dataTable =\n",
              "          await google.colab.kernel.invokeFunction('convertToInteractive',\n",
              "                                                    [key], {});\n",
              "        if (!dataTable) return;\n",
              "\n",
              "        const docLinkHtml = 'Like what you see? Visit the ' +\n",
              "          '<a target=\"_blank\" href=https://colab.research.google.com/notebooks/data_table.ipynb>data table notebook</a>'\n",
              "          + ' to learn more about interactive tables.';\n",
              "        element.innerHTML = '';\n",
              "        dataTable['output_type'] = 'display_data';\n",
              "        await google.colab.output.renderOutput(dataTable, element);\n",
              "        const docLink = document.createElement('div');\n",
              "        docLink.innerHTML = docLinkHtml;\n",
              "        element.appendChild(docLink);\n",
              "      }\n",
              "    </script>\n",
              "  </div>\n",
              "\n",
              "\n",
              "<div id=\"df-7a96da5e-a059-4d95-aaab-d738a3d84705\">\n",
              "  <button class=\"colab-df-quickchart\" onclick=\"quickchart('df-7a96da5e-a059-4d95-aaab-d738a3d84705')\"\n",
              "            title=\"Suggest charts\"\n",
              "            style=\"display:none;\">\n",
              "\n",
              "<svg xmlns=\"http://www.w3.org/2000/svg\" height=\"24px\"viewBox=\"0 0 24 24\"\n",
              "     width=\"24px\">\n",
              "    <g>\n",
              "        <path d=\"M19 3H5c-1.1 0-2 .9-2 2v14c0 1.1.9 2 2 2h14c1.1 0 2-.9 2-2V5c0-1.1-.9-2-2-2zM9 17H7v-7h2v7zm4 0h-2V7h2v10zm4 0h-2v-4h2v4z\"/>\n",
              "    </g>\n",
              "</svg>\n",
              "  </button>\n",
              "\n",
              "<style>\n",
              "  .colab-df-quickchart {\n",
              "      --bg-color: #E8F0FE;\n",
              "      --fill-color: #1967D2;\n",
              "      --hover-bg-color: #E2EBFA;\n",
              "      --hover-fill-color: #174EA6;\n",
              "      --disabled-fill-color: #AAA;\n",
              "      --disabled-bg-color: #DDD;\n",
              "  }\n",
              "\n",
              "  [theme=dark] .colab-df-quickchart {\n",
              "      --bg-color: #3B4455;\n",
              "      --fill-color: #D2E3FC;\n",
              "      --hover-bg-color: #434B5C;\n",
              "      --hover-fill-color: #FFFFFF;\n",
              "      --disabled-bg-color: #3B4455;\n",
              "      --disabled-fill-color: #666;\n",
              "  }\n",
              "\n",
              "  .colab-df-quickchart {\n",
              "    background-color: var(--bg-color);\n",
              "    border: none;\n",
              "    border-radius: 50%;\n",
              "    cursor: pointer;\n",
              "    display: none;\n",
              "    fill: var(--fill-color);\n",
              "    height: 32px;\n",
              "    padding: 0;\n",
              "    width: 32px;\n",
              "  }\n",
              "\n",
              "  .colab-df-quickchart:hover {\n",
              "    background-color: var(--hover-bg-color);\n",
              "    box-shadow: 0 1px 2px rgba(60, 64, 67, 0.3), 0 1px 3px 1px rgba(60, 64, 67, 0.15);\n",
              "    fill: var(--button-hover-fill-color);\n",
              "  }\n",
              "\n",
              "  .colab-df-quickchart-complete:disabled,\n",
              "  .colab-df-quickchart-complete:disabled:hover {\n",
              "    background-color: var(--disabled-bg-color);\n",
              "    fill: var(--disabled-fill-color);\n",
              "    box-shadow: none;\n",
              "  }\n",
              "\n",
              "  .colab-df-spinner {\n",
              "    border: 2px solid var(--fill-color);\n",
              "    border-color: transparent;\n",
              "    border-bottom-color: var(--fill-color);\n",
              "    animation:\n",
              "      spin 1s steps(1) infinite;\n",
              "  }\n",
              "\n",
              "  @keyframes spin {\n",
              "    0% {\n",
              "      border-color: transparent;\n",
              "      border-bottom-color: var(--fill-color);\n",
              "      border-left-color: var(--fill-color);\n",
              "    }\n",
              "    20% {\n",
              "      border-color: transparent;\n",
              "      border-left-color: var(--fill-color);\n",
              "      border-top-color: var(--fill-color);\n",
              "    }\n",
              "    30% {\n",
              "      border-color: transparent;\n",
              "      border-left-color: var(--fill-color);\n",
              "      border-top-color: var(--fill-color);\n",
              "      border-right-color: var(--fill-color);\n",
              "    }\n",
              "    40% {\n",
              "      border-color: transparent;\n",
              "      border-right-color: var(--fill-color);\n",
              "      border-top-color: var(--fill-color);\n",
              "    }\n",
              "    60% {\n",
              "      border-color: transparent;\n",
              "      border-right-color: var(--fill-color);\n",
              "    }\n",
              "    80% {\n",
              "      border-color: transparent;\n",
              "      border-right-color: var(--fill-color);\n",
              "      border-bottom-color: var(--fill-color);\n",
              "    }\n",
              "    90% {\n",
              "      border-color: transparent;\n",
              "      border-bottom-color: var(--fill-color);\n",
              "    }\n",
              "  }\n",
              "</style>\n",
              "\n",
              "  <script>\n",
              "    async function quickchart(key) {\n",
              "      const quickchartButtonEl =\n",
              "        document.querySelector('#' + key + ' button');\n",
              "      quickchartButtonEl.disabled = true;  // To prevent multiple clicks.\n",
              "      quickchartButtonEl.classList.add('colab-df-spinner');\n",
              "      try {\n",
              "        const charts = await google.colab.kernel.invokeFunction(\n",
              "            'suggestCharts', [key], {});\n",
              "      } catch (error) {\n",
              "        console.error('Error during call to suggestCharts:', error);\n",
              "      }\n",
              "      quickchartButtonEl.classList.remove('colab-df-spinner');\n",
              "      quickchartButtonEl.classList.add('colab-df-quickchart-complete');\n",
              "    }\n",
              "    (() => {\n",
              "      let quickchartButtonEl =\n",
              "        document.querySelector('#df-7a96da5e-a059-4d95-aaab-d738a3d84705 button');\n",
              "      quickchartButtonEl.style.display =\n",
              "        google.colab.kernel.accessAllowed ? 'block' : 'none';\n",
              "    })();\n",
              "  </script>\n",
              "</div>\n",
              "    </div>\n",
              "  </div>\n"
            ],
            "application/vnd.google.colaboratory.intrinsic+json": {
              "type": "dataframe",
              "variable_name": "df_00"
            }
          },
          "metadata": {},
          "execution_count": 7
        }
      ]
    },
    {
      "cell_type": "code",
      "execution_count": null,
      "metadata": {
        "colab": {
          "base_uri": "https://localhost:8080/"
        },
        "id": "Xdck1sCWZfpg",
        "outputId": "5c3ae2d3-8532-4300-f13e-c834c8ccda56"
      },
      "outputs": [
        {
          "output_type": "execute_result",
          "data": {
            "text/plain": [
              "Index(['player_id', 'first_name', 'first_initial', 'last_name', 'full_name',\n",
              "       'player_url', 'flag_code', 'residence', 'birthplace', 'birthdate',\n",
              "       'birth_year', 'birth_month', 'birth_day', 'turned_pro', 'weight_lbs',\n",
              "       'weight_kg', 'height_ft', 'height_inches', 'height_cm', 'handedness',\n",
              "       'backhand'],\n",
              "      dtype='object')"
            ]
          },
          "metadata": {},
          "execution_count": 8
        }
      ],
      "source": [
        "df_pl.columns"
      ]
    },
    {
      "cell_type": "markdown",
      "metadata": {
        "id": "1hxB-t1LXtH9"
      },
      "source": [
        "#QUESTIONS AND ANSWERS"
      ]
    },
    {
      "cell_type": "markdown",
      "metadata": {
        "id": "DOp_ASLDXyje"
      },
      "source": [
        "##QUESTION 1"
      ]
    },
    {
      "cell_type": "markdown",
      "metadata": {
        "id": "f6Ke1kiIX3gs"
      },
      "source": [
        "Who are the top fifteen players based on percentage of matches won?\n"
      ]
    },
    {
      "cell_type": "code",
      "execution_count": null,
      "metadata": {
        "cellView": "form",
        "colab": {
          "base_uri": "https://localhost:8080/"
        },
        "id": "YBuIFJDGHjVj",
        "outputId": "ce8f020a-c3ee-4de4-892f-e4a3acb7c605"
      },
      "outputs": [
        {
          "output_type": "stream",
          "name": "stdout",
          "text": [
            "Top 15 players according to win percentage: \n",
            "\n",
            "1. Djokovic N. : 83.90712570056044%\n",
            "2. Federer R. : 82.6629680998613%\n",
            "3. Nadal R. : 82.53588516746412%\n",
            "4. Alcaraz C. : 77.99043062200957%\n",
            "5. Agassi A. : 75.92067988668555%\n",
            "6. Roddick A. : 74.64424320827942%\n",
            "7. Murray A. : 72.97297297297297%\n",
            "8. Sinner J. : 72.24199288256227%\n",
            "9. Sampras P. : 71.01449275362319%\n",
            "10. Medvedev D. : 70.995670995671%\n",
            "11. Del Potro J.M. : 70.74010327022376%\n",
            "12. Hewitt L. : 70.70151306740028%\n",
            "13. Rafter P. : 69.90291262135922%\n",
            "14. Zverev A. : 69.24460431654677%\n",
            "15. Tsitsipas S. : 67.43119266055045%\n"
          ]
        }
      ],
      "source": [
        "# @title ANSWER\n",
        "player_wins = {}\n",
        "player_losses = {}\n",
        "player_total = {}\n",
        "players = set([])\n",
        "for df in l:\n",
        "  ser = df['Winner']\n",
        "  pl = df['Loser']\n",
        "  pls = (set(ser) | set(pl))\n",
        "  players = set(pls) | players\n",
        "players = list(players)\n",
        "for player in players:\n",
        "  player_wins[player] = 0\n",
        "  player_losses[player] = 0\n",
        "  player_total[player] = 0\n",
        "for df in l:\n",
        "  for player in players:\n",
        "    wins = len(df[df['Winner'] == player])\n",
        "    losses = len(df[df['Loser'] == player])\n",
        "    player_wins[player]+=wins\n",
        "    player_losses[player]+=losses\n",
        "    total = wins+losses\n",
        "    player_total[player]+=total\n",
        "player_win_pc = {}\n",
        "for player in players:\n",
        "  player_win_pc[player] = ((player_wins[player])/(player_total[player]))*100\n",
        "\n",
        "\n",
        "player_wp = sorted(player_win_pc.items(), key=lambda x: x[1], reverse=True)\n",
        "i = 0\n",
        "print('Top 15 players according to win percentage: ')\n",
        "print()\n",
        "for player, win_percentage in player_wp:\n",
        "  i+=1\n",
        "  print(str(i)+'. ', end = '')\n",
        "  print(f\"{player} : {win_percentage}%\")\n",
        "  if i == 15:\n",
        "    break"
      ]
    },
    {
      "cell_type": "markdown",
      "metadata": {
        "id": "DBkVB7x1nWTL"
      },
      "source": [
        "##QUESTION 2"
      ]
    },
    {
      "cell_type": "markdown",
      "metadata": {
        "id": "22C3uzCvnLnT"
      },
      "source": [
        "Which are the top fifteen countries which have produced the most tennis players?"
      ]
    },
    {
      "cell_type": "code",
      "execution_count": null,
      "metadata": {
        "cellView": "form",
        "colab": {
          "base_uri": "https://localhost:8080/",
          "height": 520
        },
        "id": "2hEYgMZslzHI",
        "outputId": "a8755b4d-f366-4a64-8fd2-bbcbd0948d6a"
      },
      "outputs": [
        {
          "output_type": "display_data",
          "data": {
            "text/plain": [
              "   Flag Code  Number of Players\n",
              "0        USA               1854\n",
              "1        GBR                860\n",
              "2        AUS                827\n",
              "3        FRA                485\n",
              "4        GER                356\n",
              "5        ESP                272\n",
              "6        ITA                265\n",
              "7        RSA                240\n",
              "8        SWE                218\n",
              "9        ARG                212\n",
              "10       JPN                163\n",
              "11       BRA                152\n",
              "12       RUS                142\n",
              "13       IND                141\n",
              "14       CZE                130"
            ],
            "text/html": [
              "\n",
              "  <div id=\"df-d2d80b53-0493-470e-85b9-6db8f6aadffc\" class=\"colab-df-container\">\n",
              "    <div>\n",
              "<style scoped>\n",
              "    .dataframe tbody tr th:only-of-type {\n",
              "        vertical-align: middle;\n",
              "    }\n",
              "\n",
              "    .dataframe tbody tr th {\n",
              "        vertical-align: top;\n",
              "    }\n",
              "\n",
              "    .dataframe thead th {\n",
              "        text-align: right;\n",
              "    }\n",
              "</style>\n",
              "<table border=\"1\" class=\"dataframe\">\n",
              "  <thead>\n",
              "    <tr style=\"text-align: right;\">\n",
              "      <th></th>\n",
              "      <th>Flag Code</th>\n",
              "      <th>Number of Players</th>\n",
              "    </tr>\n",
              "  </thead>\n",
              "  <tbody>\n",
              "    <tr>\n",
              "      <th>0</th>\n",
              "      <td>USA</td>\n",
              "      <td>1854</td>\n",
              "    </tr>\n",
              "    <tr>\n",
              "      <th>1</th>\n",
              "      <td>GBR</td>\n",
              "      <td>860</td>\n",
              "    </tr>\n",
              "    <tr>\n",
              "      <th>2</th>\n",
              "      <td>AUS</td>\n",
              "      <td>827</td>\n",
              "    </tr>\n",
              "    <tr>\n",
              "      <th>3</th>\n",
              "      <td>FRA</td>\n",
              "      <td>485</td>\n",
              "    </tr>\n",
              "    <tr>\n",
              "      <th>4</th>\n",
              "      <td>GER</td>\n",
              "      <td>356</td>\n",
              "    </tr>\n",
              "    <tr>\n",
              "      <th>5</th>\n",
              "      <td>ESP</td>\n",
              "      <td>272</td>\n",
              "    </tr>\n",
              "    <tr>\n",
              "      <th>6</th>\n",
              "      <td>ITA</td>\n",
              "      <td>265</td>\n",
              "    </tr>\n",
              "    <tr>\n",
              "      <th>7</th>\n",
              "      <td>RSA</td>\n",
              "      <td>240</td>\n",
              "    </tr>\n",
              "    <tr>\n",
              "      <th>8</th>\n",
              "      <td>SWE</td>\n",
              "      <td>218</td>\n",
              "    </tr>\n",
              "    <tr>\n",
              "      <th>9</th>\n",
              "      <td>ARG</td>\n",
              "      <td>212</td>\n",
              "    </tr>\n",
              "    <tr>\n",
              "      <th>10</th>\n",
              "      <td>JPN</td>\n",
              "      <td>163</td>\n",
              "    </tr>\n",
              "    <tr>\n",
              "      <th>11</th>\n",
              "      <td>BRA</td>\n",
              "      <td>152</td>\n",
              "    </tr>\n",
              "    <tr>\n",
              "      <th>12</th>\n",
              "      <td>RUS</td>\n",
              "      <td>142</td>\n",
              "    </tr>\n",
              "    <tr>\n",
              "      <th>13</th>\n",
              "      <td>IND</td>\n",
              "      <td>141</td>\n",
              "    </tr>\n",
              "    <tr>\n",
              "      <th>14</th>\n",
              "      <td>CZE</td>\n",
              "      <td>130</td>\n",
              "    </tr>\n",
              "  </tbody>\n",
              "</table>\n",
              "</div>\n",
              "    <div class=\"colab-df-buttons\">\n",
              "\n",
              "  <div class=\"colab-df-container\">\n",
              "    <button class=\"colab-df-convert\" onclick=\"convertToInteractive('df-d2d80b53-0493-470e-85b9-6db8f6aadffc')\"\n",
              "            title=\"Convert this dataframe to an interactive table.\"\n",
              "            style=\"display:none;\">\n",
              "\n",
              "  <svg xmlns=\"http://www.w3.org/2000/svg\" height=\"24px\" viewBox=\"0 -960 960 960\">\n",
              "    <path d=\"M120-120v-720h720v720H120Zm60-500h600v-160H180v160Zm220 220h160v-160H400v160Zm0 220h160v-160H400v160ZM180-400h160v-160H180v160Zm440 0h160v-160H620v160ZM180-180h160v-160H180v160Zm440 0h160v-160H620v160Z\"/>\n",
              "  </svg>\n",
              "    </button>\n",
              "\n",
              "  <style>\n",
              "    .colab-df-container {\n",
              "      display:flex;\n",
              "      gap: 12px;\n",
              "    }\n",
              "\n",
              "    .colab-df-convert {\n",
              "      background-color: #E8F0FE;\n",
              "      border: none;\n",
              "      border-radius: 50%;\n",
              "      cursor: pointer;\n",
              "      display: none;\n",
              "      fill: #1967D2;\n",
              "      height: 32px;\n",
              "      padding: 0 0 0 0;\n",
              "      width: 32px;\n",
              "    }\n",
              "\n",
              "    .colab-df-convert:hover {\n",
              "      background-color: #E2EBFA;\n",
              "      box-shadow: 0px 1px 2px rgba(60, 64, 67, 0.3), 0px 1px 3px 1px rgba(60, 64, 67, 0.15);\n",
              "      fill: #174EA6;\n",
              "    }\n",
              "\n",
              "    .colab-df-buttons div {\n",
              "      margin-bottom: 4px;\n",
              "    }\n",
              "\n",
              "    [theme=dark] .colab-df-convert {\n",
              "      background-color: #3B4455;\n",
              "      fill: #D2E3FC;\n",
              "    }\n",
              "\n",
              "    [theme=dark] .colab-df-convert:hover {\n",
              "      background-color: #434B5C;\n",
              "      box-shadow: 0px 1px 3px 1px rgba(0, 0, 0, 0.15);\n",
              "      filter: drop-shadow(0px 1px 2px rgba(0, 0, 0, 0.3));\n",
              "      fill: #FFFFFF;\n",
              "    }\n",
              "  </style>\n",
              "\n",
              "    <script>\n",
              "      const buttonEl =\n",
              "        document.querySelector('#df-d2d80b53-0493-470e-85b9-6db8f6aadffc button.colab-df-convert');\n",
              "      buttonEl.style.display =\n",
              "        google.colab.kernel.accessAllowed ? 'block' : 'none';\n",
              "\n",
              "      async function convertToInteractive(key) {\n",
              "        const element = document.querySelector('#df-d2d80b53-0493-470e-85b9-6db8f6aadffc');\n",
              "        const dataTable =\n",
              "          await google.colab.kernel.invokeFunction('convertToInteractive',\n",
              "                                                    [key], {});\n",
              "        if (!dataTable) return;\n",
              "\n",
              "        const docLinkHtml = 'Like what you see? Visit the ' +\n",
              "          '<a target=\"_blank\" href=https://colab.research.google.com/notebooks/data_table.ipynb>data table notebook</a>'\n",
              "          + ' to learn more about interactive tables.';\n",
              "        element.innerHTML = '';\n",
              "        dataTable['output_type'] = 'display_data';\n",
              "        await google.colab.output.renderOutput(dataTable, element);\n",
              "        const docLink = document.createElement('div');\n",
              "        docLink.innerHTML = docLinkHtml;\n",
              "        element.appendChild(docLink);\n",
              "      }\n",
              "    </script>\n",
              "  </div>\n",
              "\n",
              "\n",
              "<div id=\"df-75a8c101-3538-4d2f-aecb-47713a8f80c0\">\n",
              "  <button class=\"colab-df-quickchart\" onclick=\"quickchart('df-75a8c101-3538-4d2f-aecb-47713a8f80c0')\"\n",
              "            title=\"Suggest charts\"\n",
              "            style=\"display:none;\">\n",
              "\n",
              "<svg xmlns=\"http://www.w3.org/2000/svg\" height=\"24px\"viewBox=\"0 0 24 24\"\n",
              "     width=\"24px\">\n",
              "    <g>\n",
              "        <path d=\"M19 3H5c-1.1 0-2 .9-2 2v14c0 1.1.9 2 2 2h14c1.1 0 2-.9 2-2V5c0-1.1-.9-2-2-2zM9 17H7v-7h2v7zm4 0h-2V7h2v10zm4 0h-2v-4h2v4z\"/>\n",
              "    </g>\n",
              "</svg>\n",
              "  </button>\n",
              "\n",
              "<style>\n",
              "  .colab-df-quickchart {\n",
              "      --bg-color: #E8F0FE;\n",
              "      --fill-color: #1967D2;\n",
              "      --hover-bg-color: #E2EBFA;\n",
              "      --hover-fill-color: #174EA6;\n",
              "      --disabled-fill-color: #AAA;\n",
              "      --disabled-bg-color: #DDD;\n",
              "  }\n",
              "\n",
              "  [theme=dark] .colab-df-quickchart {\n",
              "      --bg-color: #3B4455;\n",
              "      --fill-color: #D2E3FC;\n",
              "      --hover-bg-color: #434B5C;\n",
              "      --hover-fill-color: #FFFFFF;\n",
              "      --disabled-bg-color: #3B4455;\n",
              "      --disabled-fill-color: #666;\n",
              "  }\n",
              "\n",
              "  .colab-df-quickchart {\n",
              "    background-color: var(--bg-color);\n",
              "    border: none;\n",
              "    border-radius: 50%;\n",
              "    cursor: pointer;\n",
              "    display: none;\n",
              "    fill: var(--fill-color);\n",
              "    height: 32px;\n",
              "    padding: 0;\n",
              "    width: 32px;\n",
              "  }\n",
              "\n",
              "  .colab-df-quickchart:hover {\n",
              "    background-color: var(--hover-bg-color);\n",
              "    box-shadow: 0 1px 2px rgba(60, 64, 67, 0.3), 0 1px 3px 1px rgba(60, 64, 67, 0.15);\n",
              "    fill: var(--button-hover-fill-color);\n",
              "  }\n",
              "\n",
              "  .colab-df-quickchart-complete:disabled,\n",
              "  .colab-df-quickchart-complete:disabled:hover {\n",
              "    background-color: var(--disabled-bg-color);\n",
              "    fill: var(--disabled-fill-color);\n",
              "    box-shadow: none;\n",
              "  }\n",
              "\n",
              "  .colab-df-spinner {\n",
              "    border: 2px solid var(--fill-color);\n",
              "    border-color: transparent;\n",
              "    border-bottom-color: var(--fill-color);\n",
              "    animation:\n",
              "      spin 1s steps(1) infinite;\n",
              "  }\n",
              "\n",
              "  @keyframes spin {\n",
              "    0% {\n",
              "      border-color: transparent;\n",
              "      border-bottom-color: var(--fill-color);\n",
              "      border-left-color: var(--fill-color);\n",
              "    }\n",
              "    20% {\n",
              "      border-color: transparent;\n",
              "      border-left-color: var(--fill-color);\n",
              "      border-top-color: var(--fill-color);\n",
              "    }\n",
              "    30% {\n",
              "      border-color: transparent;\n",
              "      border-left-color: var(--fill-color);\n",
              "      border-top-color: var(--fill-color);\n",
              "      border-right-color: var(--fill-color);\n",
              "    }\n",
              "    40% {\n",
              "      border-color: transparent;\n",
              "      border-right-color: var(--fill-color);\n",
              "      border-top-color: var(--fill-color);\n",
              "    }\n",
              "    60% {\n",
              "      border-color: transparent;\n",
              "      border-right-color: var(--fill-color);\n",
              "    }\n",
              "    80% {\n",
              "      border-color: transparent;\n",
              "      border-right-color: var(--fill-color);\n",
              "      border-bottom-color: var(--fill-color);\n",
              "    }\n",
              "    90% {\n",
              "      border-color: transparent;\n",
              "      border-bottom-color: var(--fill-color);\n",
              "    }\n",
              "  }\n",
              "</style>\n",
              "\n",
              "  <script>\n",
              "    async function quickchart(key) {\n",
              "      const quickchartButtonEl =\n",
              "        document.querySelector('#' + key + ' button');\n",
              "      quickchartButtonEl.disabled = true;  // To prevent multiple clicks.\n",
              "      quickchartButtonEl.classList.add('colab-df-spinner');\n",
              "      try {\n",
              "        const charts = await google.colab.kernel.invokeFunction(\n",
              "            'suggestCharts', [key], {});\n",
              "      } catch (error) {\n",
              "        console.error('Error during call to suggestCharts:', error);\n",
              "      }\n",
              "      quickchartButtonEl.classList.remove('colab-df-spinner');\n",
              "      quickchartButtonEl.classList.add('colab-df-quickchart-complete');\n",
              "    }\n",
              "    (() => {\n",
              "      let quickchartButtonEl =\n",
              "        document.querySelector('#df-75a8c101-3538-4d2f-aecb-47713a8f80c0 button');\n",
              "      quickchartButtonEl.style.display =\n",
              "        google.colab.kernel.accessAllowed ? 'block' : 'none';\n",
              "    })();\n",
              "  </script>\n",
              "</div>\n",
              "    </div>\n",
              "  </div>\n"
            ],
            "application/vnd.google.colaboratory.intrinsic+json": {
              "type": "dataframe",
              "summary": "{\n  \"name\": \"display(country_players\",\n  \"rows\": 15,\n  \"fields\": [\n    {\n      \"column\": \"Flag Code\",\n      \"properties\": {\n        \"dtype\": \"string\",\n        \"num_unique_values\": 15,\n        \"samples\": [\n          \"ARG\",\n          \"BRA\",\n          \"USA\"\n        ],\n        \"semantic_type\": \"\",\n        \"description\": \"\"\n      }\n    },\n    {\n      \"column\": \"Number of Players\",\n      \"properties\": {\n        \"dtype\": \"number\",\n        \"std\": 460,\n        \"min\": 130,\n        \"max\": 1854,\n        \"num_unique_values\": 15,\n        \"samples\": [\n          212,\n          152,\n          1854\n        ],\n        \"semantic_type\": \"\",\n        \"description\": \"\"\n      }\n    }\n  ]\n}"
            }
          },
          "metadata": {}
        }
      ],
      "source": [
        "# @title ANSWER\n",
        "pl = df_pl['flag_code'].value_counts()\n",
        "country_players = pl.reset_index()\n",
        "country_players.columns = ['Flag Code'  ,'Number of Players']\n",
        "display(country_players.sort_values(by = ['Number of Players'], ascending = False).head(15))"
      ]
    },
    {
      "cell_type": "markdown",
      "metadata": {
        "id": "jxdNVweIn_yp"
      },
      "source": [
        "##QUESTION 3"
      ]
    },
    {
      "cell_type": "markdown",
      "metadata": {
        "id": "i43Q9OiKoWPc"
      },
      "source": [
        "What is the winning percentage of the top 5 players on different surfaces?"
      ]
    },
    {
      "cell_type": "code",
      "execution_count": null,
      "metadata": {
        "cellView": "form",
        "colab": {
          "base_uri": "https://localhost:8080/",
          "height": 628
        },
        "id": "PP9qwQc7pDWO",
        "outputId": "f10e66db-3a17-4e95-c78c-18f3f8e6bfbd"
      },
      "outputs": [
        {
          "output_type": "display_data",
          "data": {
            "text/plain": [
              "<Figure size 800x600 with 1 Axes>"
            ],
            "image/png": "[encoded data removed]"
          },
          "metadata": {}
        }
      ],
      "source": [
        "# @title ANSWER\n",
        "top5 = []\n",
        "for i in player_wp[:5]:\n",
        "  top5.append(i[0])\n",
        "surfaces = ['Hard', 'Clay', 'Carpet', 'Grass']\n",
        "ll = []\n",
        "lol = [] ##\n",
        "\n",
        "def surface_pie(player):\n",
        "  ls = [0, 0, 0, 0]\n",
        "  ll = [0, 0, 0, 0]\n",
        "  for df in l:\n",
        "    ls[0] += len(df[(df['Winner']==player) & (df['Surface']==surfaces[0])])\n",
        "    ls[1] += len(df[(df['Winner']==player) & (df['Surface']==surfaces[1])])\n",
        "    ls[2] += len(df[(df['Winner']==player) & (df['Surface']==surfaces[2])])\n",
        "    ls[3] += len(df[(df['Winner']==player) & (df['Surface']==surfaces[3])])\n",
        "    ll[0] += len(df[(df['Winner']==player) & (df['Surface']==surfaces[0])])\n",
        "    ll[1] += len(df[(df['Winner']==player) & (df['Surface']==surfaces[1])])\n",
        "    ll[2] += len(df[(df['Winner']==player) & (df['Surface']==surfaces[2])])\n",
        "    ll[3] += len(df[(df['Winner']==player) & (df['Surface']==surfaces[3])])\n",
        "    ll[0] += len(df[(df['Loser']==player) & (df['Surface']==surfaces[0])])\n",
        "    ll[1] += len(df[(df['Loser']==player) & (df['Surface']==surfaces[1])])\n",
        "    ll[2] += len(df[(df['Loser']==player) & (df['Surface']==surfaces[2])])\n",
        "    ll[3] += len(df[(df['Loser']==player) & (df['Surface']==surfaces[3])])\n",
        "  for i in range(4):\n",
        "    if ll[i] == 0:\n",
        "      ll[i] = 1\n",
        "  lls = [(ls[0]/ll[0])*100, (ls[1]/ll[1])*100, (ls[2]/ll[2])*100, (ls[3]/ll[3])*100]\n",
        "  lol.append(lls)\n",
        "\n",
        "for i in top5:\n",
        "  surface_pie(i)\n",
        "for i in range(5):\n",
        "  for j in range(4):\n",
        "    lol[i][j] = round(lol[i][j], 2)\n",
        "\n",
        "top_specs = {'Hard':[], 'Clay':[], 'Carpet':[], 'Grass':[]}\n",
        "colours = ['blue', 'indianred', 'salmon', 'green']\n",
        "for i in range(5):\n",
        "  top_specs['Hard'].append(lol[i][0])\n",
        "  top_specs['Clay'].append(lol[i][1])\n",
        "  top_specs['Carpet'].append(lol[i][2])\n",
        "  top_specs['Grass'].append(lol[i][3])\n",
        "\n",
        "x = np.arange(len(top5))*5\n",
        "\n",
        "width = 1\n",
        "multiplier = 0\n",
        "\n",
        "fig, ax = plt.subplots(layout='constrained', figsize = (8,6))\n",
        "\n",
        "for attribute, measurement in top_specs.items():\n",
        "  offset = width * multiplier\n",
        "  rects = ax.bar(x + offset, measurement, width, label=attribute, color = colours[multiplier])\n",
        "  ax.bar_label(rects, padding=3)\n",
        "  multiplier += 1\n",
        "\n",
        "ax.set_ylabel('Percentage')\n",
        "ax.set_title('Winning Percentage on Different Surfaces')\n",
        "ax.set_xticks(x + width*1.5, top5)\n",
        "ax.legend(loc='upper left', ncols=4)\n",
        "ax.set_ylim(0, 120)\n",
        "\n",
        "plt.show()"
      ]
    },
    {
      "cell_type": "markdown",
      "metadata": {
        "id": "VGi8_nRFcatT"
      },
      "source": [
        "Out of the top 5, Rafael Nadal is the best on clay courts. This is why he is known as the 'King of Clay'. Roger Federer is the best of the 5 on grass courts. The use of carpet courts is very low, which is why Alcaraz C. has never played on one."
      ]
    },
    {
      "cell_type": "markdown",
      "metadata": {
        "id": "_TUal_0tw-CU"
      },
      "source": [
        "##QUESTION 4"
      ]
    },
    {
      "cell_type": "markdown",
      "metadata": {
        "id": "wiK0mQPeyimf"
      },
      "source": [
        "Which are the top 5 most played at locations?"
      ]
    },
    {
      "cell_type": "code",
      "execution_count": null,
      "metadata": {
        "cellView": "form",
        "colab": {
          "base_uri": "https://localhost:8080/",
          "height": 244
        },
        "id": "S3lLa-bSRQYE",
        "outputId": "88c19d86-9173-45a3-ced5-2f9892b55243"
      },
      "outputs": [
        {
          "output_type": "stream",
          "name": "stdout",
          "text": [
            "{'Paris': 4208, 'London': 3132, 'Melbourne': 3312, 'New York': 3184, 'Miami': 2280, 'Stuttgart': 835, 'Indian Wells': 2152, 'Toronto': 676, 'Hamburg': 1092, 'Rome': 1415, 'Cincinnati': 1321, 'Monte Carlo': 1376, 'Indianapolis': 446, 'Washington': 1057, 'Barcelona': 1185, 'Queens Club': 1073, 'Tokyo': 850, 'Kitzbuhel': 789, 'Long Island': 187, 'Memphis': 574, 'Palermo': 217, 'Lyon': 472, 'Stockholm': 661, 'Umag': 657, 'Los Angeles': 383, 'San Marino': 31, 'Brighton': 31, 'St. Petersburg': 627, 'Basel': 682, 'Moscow': 607, 'Tashkent': 93, 'Toulouse': 31, 'Shanghai': 899, 'Vienna': 693, 'Bucharest': 499, 'Newport': 681, 'Hong Kong': 120, 'Amsterdam': 62, 'Adelaide': 445, 'Gstaad': 661, 'Bogota': 143, 'Doha': 755, 'Auckland': 657, 'Sydney': 618, 'Dubai': 93, 'Marseille': 715, 'San Jose': 426, 'Rotterdam': 775, 'Mexico City': 31, 'Copenhagen': 124, 'Delray Beach': 759, 'Santiago': 228, 'Scottsdale': 186, 'Bastad': 653, 'Atlanta': 413, 'Casablanca': 472, 'Estoril': 336, 'Mallorca': 174, 'Munich': 669, 'Orlando': 31, 'St. Polten': 186, 'Halle': 701, 'Chennai': 534, 'Nottingham': 373, \"'s-Hertogenbosch\": 650, 'Lisbon': 15, 'Montreal': 629, 'Sopot': 217, 'Salvador': 62, 'Milan': 155, 'Vina del Mar': 356, 'Buenos Aires': 704, 'Acapulco': 744, 'Houston': 660, 'Madrid': 1139, 'Amersfoort': 213, 'Vienna ': 31, 'Bangkok': 317, 'Metz': 564, 'Costa Do Sauipe': 275, 'Dubai ': 696, 'Estoril ': 298, 'Valencia': 399, 'Beijing': 523, 'New Haven': 282, 'Ho Chi Min City': 31, 'Mumbai': 62, 'Zagreb': 294, 'Las Vegas': 93, 'Portschach': 93, 'Warsaw': 31, 'Brisbane': 344, 'Eastbourne': 336, 'Johannesburg ': 93, 'Kuala Lumpur': 189, 'Belgrade': 189, 'Montpellier': 378, 'Nice': 189, 'Winston-Salem': 564, 'Sao Paulo': 216, 'Oeiras': 54, 'Dusseldorf': 54, 'Rio de Janeiro': 306, 'Shenzhen ': 135, 'Quito': 108, 'Istanbul': 108, 'Geneva': 216, 'Los Cabos': 216, 'Sofia': 216, 'Marrakech': 201, 'Chengdu': 135, 'Antwerp': 216, 'Budapest': 81, 'Antalya': 112, 'Pune': 135, 'Zhuhai': 54, 'Cordoba': 162, 'Cologne': 54, 'Sardinia': 27, 'Nur-Sultan': 112, 'San Diego': 54, 'Singapore': 27, 'Marbella': 27, 'Parma': 27, 'Cagliari': 27, 'Turin': 45, 'Dallas': 81, 'Seoul': 27, 'Tel Aviv': 27, 'Florence': 27, 'Gijon': 27, 'Napoli': 27, 'Banja Luka': 27}\n"
          ]
        },
        {
          "output_type": "display_data",
          "data": {
            "text/plain": [
              "    Location Total Number of Matches\n",
              "0      Paris                    4208\n",
              "1  Melbourne                    3312\n",
              "2   New York                    3184\n",
              "3     London                    3132\n",
              "4      Miami                    2280"
            ],
            "text/html": [
              "\n",
              "  <div id=\"df-39e6c4c0-937f-4f81-a816-36efcb7e9a82\" class=\"colab-df-container\">\n",
              "    <div>\n",
              "<style scoped>\n",
              "    .dataframe tbody tr th:only-of-type {\n",
              "        vertical-align: middle;\n",
              "    }\n",
              "\n",
              "    .dataframe tbody tr th {\n",
              "        vertical-align: top;\n",
              "    }\n",
              "\n",
              "    .dataframe thead th {\n",
              "        text-align: right;\n",
              "    }\n",
              "</style>\n",
              "<table border=\"1\" class=\"dataframe\">\n",
              "  <thead>\n",
              "    <tr style=\"text-align: right;\">\n",
              "      <th></th>\n",
              "      <th>Location</th>\n",
              "      <th>Total Number of Matches</th>\n",
              "    </tr>\n",
              "  </thead>\n",
              "  <tbody>\n",
              "    <tr>\n",
              "      <th>0</th>\n",
              "      <td>Paris</td>\n",
              "      <td>4208</td>\n",
              "    </tr>\n",
              "    <tr>\n",
              "      <th>1</th>\n",
              "      <td>Melbourne</td>\n",
              "      <td>3312</td>\n",
              "    </tr>\n",
              "    <tr>\n",
              "      <th>2</th>\n",
              "      <td>New York</td>\n",
              "      <td>3184</td>\n",
              "    </tr>\n",
              "    <tr>\n",
              "      <th>3</th>\n",
              "      <td>London</td>\n",
              "      <td>3132</td>\n",
              "    </tr>\n",
              "    <tr>\n",
              "      <th>4</th>\n",
              "      <td>Miami</td>\n",
              "      <td>2280</td>\n",
              "    </tr>\n",
              "  </tbody>\n",
              "</table>\n",
              "</div>\n",
              "    <div class=\"colab-df-buttons\">\n",
              "\n",
              "  <div class=\"colab-df-container\">\n",
              "    <button class=\"colab-df-convert\" onclick=\"convertToInteractive('df-39e6c4c0-937f-4f81-a816-36efcb7e9a82')\"\n",
              "            title=\"Convert this dataframe to an interactive table.\"\n",
              "            style=\"display:none;\">\n",
              "\n",
              "  <svg xmlns=\"http://www.w3.org/2000/svg\" height=\"24px\" viewBox=\"0 -960 960 960\">\n",
              "    <path d=\"M120-120v-720h720v720H120Zm60-500h600v-160H180v160Zm220 220h160v-160H400v160Zm0 220h160v-160H400v160ZM180-400h160v-160H180v160Zm440 0h160v-160H620v160ZM180-180h160v-160H180v160Zm440 0h160v-160H620v160Z\"/>\n",
              "  </svg>\n",
              "    </button>\n",
              "\n",
              "  <style>\n",
              "    .colab-df-container {\n",
              "      display:flex;\n",
              "      gap: 12px;\n",
              "    }\n",
              "\n",
              "    .colab-df-convert {\n",
              "      background-color: #E8F0FE;\n",
              "      border: none;\n",
              "      border-radius: 50%;\n",
              "      cursor: pointer;\n",
              "      display: none;\n",
              "      fill: #1967D2;\n",
              "      height: 32px;\n",
              "      padding: 0 0 0 0;\n",
              "      width: 32px;\n",
              "    }\n",
              "\n",
              "    .colab-df-convert:hover {\n",
              "      background-color: #E2EBFA;\n",
              "      box-shadow: 0px 1px 2px rgba(60, 64, 67, 0.3), 0px 1px 3px 1px rgba(60, 64, 67, 0.15);\n",
              "      fill: #174EA6;\n",
              "    }\n",
              "\n",
              "    .colab-df-buttons div {\n",
              "      margin-bottom: 4px;\n",
              "    }\n",
              "\n",
              "    [theme=dark] .colab-df-convert {\n",
              "      background-color: #3B4455;\n",
              "      fill: #D2E3FC;\n",
              "    }\n",
              "\n",
              "    [theme=dark] .colab-df-convert:hover {\n",
              "      background-color: #434B5C;\n",
              "      box-shadow: 0px 1px 3px 1px rgba(0, 0, 0, 0.15);\n",
              "      filter: drop-shadow(0px 1px 2px rgba(0, 0, 0, 0.3));\n",
              "      fill: #FFFFFF;\n",
              "    }\n",
              "  </style>\n",
              "\n",
              "    <script>\n",
              "      const buttonEl =\n",
              "        document.querySelector('#df-39e6c4c0-937f-4f81-a816-36efcb7e9a82 button.colab-df-convert');\n",
              "      buttonEl.style.display =\n",
              "        google.colab.kernel.accessAllowed ? 'block' : 'none';\n",
              "\n",
              "      async function convertToInteractive(key) {\n",
              "        const element = document.querySelector('#df-39e6c4c0-937f-4f81-a816-36efcb7e9a82');\n",
              "        const dataTable =\n",
              "          await google.colab.kernel.invokeFunction('convertToInteractive',\n",
              "                                                    [key], {});\n",
              "        if (!dataTable) return;\n",
              "\n",
              "        const docLinkHtml = 'Like what you see? Visit the ' +\n",
              "          '<a target=\"_blank\" href=https://colab.research.google.com/notebooks/data_table.ipynb>data table notebook</a>'\n",
              "          + ' to learn more about interactive tables.';\n",
              "        element.innerHTML = '';\n",
              "        dataTable['output_type'] = 'display_data';\n",
              "        await google.colab.output.renderOutput(dataTable, element);\n",
              "        const docLink = document.createElement('div');\n",
              "        docLink.innerHTML = docLinkHtml;\n",
              "        element.appendChild(docLink);\n",
              "      }\n",
              "    </script>\n",
              "  </div>\n",
              "\n",
              "\n",
              "<div id=\"df-9fc717a5-d793-457f-ad1a-b882c7e275e7\">\n",
              "  <button class=\"colab-df-quickchart\" onclick=\"quickchart('df-9fc717a5-d793-457f-ad1a-b882c7e275e7')\"\n",
              "            title=\"Suggest charts\"\n",
              "            style=\"display:none;\">\n",
              "\n",
              "<svg xmlns=\"http://www.w3.org/2000/svg\" height=\"24px\"viewBox=\"0 0 24 24\"\n",
              "     width=\"24px\">\n",
              "    <g>\n",
              "        <path d=\"M19 3H5c-1.1 0-2 .9-2 2v14c0 1.1.9 2 2 2h14c1.1 0 2-.9 2-2V5c0-1.1-.9-2-2-2zM9 17H7v-7h2v7zm4 0h-2V7h2v10zm4 0h-2v-4h2v4z\"/>\n",
              "    </g>\n",
              "</svg>\n",
              "  </button>\n",
              "\n",
              "<style>\n",
              "  .colab-df-quickchart {\n",
              "      --bg-color: #E8F0FE;\n",
              "      --fill-color: #1967D2;\n",
              "      --hover-bg-color: #E2EBFA;\n",
              "      --hover-fill-color: #174EA6;\n",
              "      --disabled-fill-color: #AAA;\n",
              "      --disabled-bg-color: #DDD;\n",
              "  }\n",
              "\n",
              "  [theme=dark] .colab-df-quickchart {\n",
              "      --bg-color: #3B4455;\n",
              "      --fill-color: #D2E3FC;\n",
              "      --hover-bg-color: #434B5C;\n",
              "      --hover-fill-color: #FFFFFF;\n",
              "      --disabled-bg-color: #3B4455;\n",
              "      --disabled-fill-color: #666;\n",
              "  }\n",
              "\n",
              "  .colab-df-quickchart {\n",
              "    background-color: var(--bg-color);\n",
              "    border: none;\n",
              "    border-radius: 50%;\n",
              "    cursor: pointer;\n",
              "    display: none;\n",
              "    fill: var(--fill-color);\n",
              "    height: 32px;\n",
              "    padding: 0;\n",
              "    width: 32px;\n",
              "  }\n",
              "\n",
              "  .colab-df-quickchart:hover {\n",
              "    background-color: var(--hover-bg-color);\n",
              "    box-shadow: 0 1px 2px rgba(60, 64, 67, 0.3), 0 1px 3px 1px rgba(60, 64, 67, 0.15);\n",
              "    fill: var(--button-hover-fill-color);\n",
              "  }\n",
              "\n",
              "  .colab-df-quickchart-complete:disabled,\n",
              "  .colab-df-quickchart-complete:disabled:hover {\n",
              "    background-color: var(--disabled-bg-color);\n",
              "    fill: var(--disabled-fill-color);\n",
              "    box-shadow: none;\n",
              "  }\n",
              "\n",
              "  .colab-df-spinner {\n",
              "    border: 2px solid var(--fill-color);\n",
              "    border-color: transparent;\n",
              "    border-bottom-color: var(--fill-color);\n",
              "    animation:\n",
              "      spin 1s steps(1) infinite;\n",
              "  }\n",
              "\n",
              "  @keyframes spin {\n",
              "    0% {\n",
              "      border-color: transparent;\n",
              "      border-bottom-color: var(--fill-color);\n",
              "      border-left-color: var(--fill-color);\n",
              "    }\n",
              "    20% {\n",
              "      border-color: transparent;\n",
              "      border-left-color: var(--fill-color);\n",
              "      border-top-color: var(--fill-color);\n",
              "    }\n",
              "    30% {\n",
              "      border-color: transparent;\n",
              "      border-left-color: var(--fill-color);\n",
              "      border-top-color: var(--fill-color);\n",
              "      border-right-color: var(--fill-color);\n",
              "    }\n",
              "    40% {\n",
              "      border-color: transparent;\n",
              "      border-right-color: var(--fill-color);\n",
              "      border-top-color: var(--fill-color);\n",
              "    }\n",
              "    60% {\n",
              "      border-color: transparent;\n",
              "      border-right-color: var(--fill-color);\n",
              "    }\n",
              "    80% {\n",
              "      border-color: transparent;\n",
              "      border-right-color: var(--fill-color);\n",
              "      border-bottom-color: var(--fill-color);\n",
              "    }\n",
              "    90% {\n",
              "      border-color: transparent;\n",
              "      border-bottom-color: var(--fill-color);\n",
              "    }\n",
              "  }\n",
              "</style>\n",
              "\n",
              "  <script>\n",
              "    async function quickchart(key) {\n",
              "      const quickchartButtonEl =\n",
              "        document.querySelector('#' + key + ' button');\n",
              "      quickchartButtonEl.disabled = true;  // To prevent multiple clicks.\n",
              "      quickchartButtonEl.classList.add('colab-df-spinner');\n",
              "      try {\n",
              "        const charts = await google.colab.kernel.invokeFunction(\n",
              "            'suggestCharts', [key], {});\n",
              "      } catch (error) {\n",
              "        console.error('Error during call to suggestCharts:', error);\n",
              "      }\n",
              "      quickchartButtonEl.classList.remove('colab-df-spinner');\n",
              "      quickchartButtonEl.classList.add('colab-df-quickchart-complete');\n",
              "    }\n",
              "    (() => {\n",
              "      let quickchartButtonEl =\n",
              "        document.querySelector('#df-9fc717a5-d793-457f-ad1a-b882c7e275e7 button');\n",
              "      quickchartButtonEl.style.display =\n",
              "        google.colab.kernel.accessAllowed ? 'block' : 'none';\n",
              "    })();\n",
              "  </script>\n",
              "</div>\n",
              "    </div>\n",
              "  </div>\n"
            ],
            "application/vnd.google.colaboratory.intrinsic+json": {
              "type": "dataframe",
              "variable_name": "x",
              "summary": "{\n  \"name\": \"x\",\n  \"rows\": 5,\n  \"fields\": [\n    {\n      \"column\": \"Location\",\n      \"properties\": {\n        \"dtype\": \"string\",\n        \"num_unique_values\": 5,\n        \"samples\": [\n          \"Melbourne\",\n          \"Miami\",\n          \"New York\"\n        ],\n        \"semantic_type\": \"\",\n        \"description\": \"\"\n      }\n    },\n    {\n      \"column\": \"Total Number of Matches\",\n      \"properties\": {\n        \"dtype\": \"date\",\n        \"min\": \"2280\",\n        \"max\": \"4208\",\n        \"num_unique_values\": 5,\n        \"samples\": [\n          \"3312\",\n          \"2280\",\n          \"3184\"\n        ],\n        \"semantic_type\": \"\",\n        \"description\": \"\"\n      }\n    }\n  ]\n}"
            }
          },
          "metadata": {}
        }
      ],
      "source": [
        "# @title ANSWER\n",
        "locat = {}\n",
        "for df in l:\n",
        "  loc_df = df['Location'].value_counts()\n",
        "  i = 0\n",
        "  loc_c = loc_df.tolist()\n",
        "  for loca in loc_df.index:\n",
        "    if loca in locat.keys():\n",
        "      locat[loca] += loc_c[i]\n",
        "    else:\n",
        "      locat[loca] = loc_c[i]\n",
        "    i+=1\n",
        "print(locat)\n",
        "loc = pd.DataFrame([locat]).T\n",
        "location = pd.DataFrame([loc.index, np.array(loc[0])]).T\n",
        "location.columns = ['Location', 'Total Number of Matches']\n",
        "# display(player_wins.sort_values(by = ['Total Number of Winning Matches'], ascending = False).head(10))\n",
        "final = location.sort_values(by = ['Total Number of Matches'], ascending = False).head(5)\n",
        "x = final.reset_index(drop=True)\n",
        "display(x)"
      ]
    },
    {
      "cell_type": "markdown",
      "metadata": {
        "id": "s4ORAD3nTKmA"
      },
      "source": [
        "##QUESTION 5"
      ]
    },
    {
      "cell_type": "markdown",
      "metadata": {
        "id": "cyC1W4bPTf_i"
      },
      "source": [
        "How has the use of a particular surface changed over the years? What percentage of matches are played on a particular type of surface in a given year?"
      ]
    },
    {
      "cell_type": "code",
      "execution_count": null,
      "metadata": {
        "cellView": "form",
        "colab": {
          "base_uri": "https://localhost:8080/",
          "height": 472
        },
        "id": "17XFfgFR9LJ5",
        "outputId": "ca472522-3657-41a8-f27c-f119e670c619"
      },
      "outputs": [
        {
          "output_type": "display_data",
          "data": {
            "text/plain": [
              "<Figure size 640x480 with 1 Axes>"
            ],
            "image/png": "[encoded data removed]"
          },
          "metadata": {}
        }
      ],
      "source": [
        "# @title ANSWER\n",
        "lopl = {'Hard': [], 'Clay': [], 'Carpet': [], 'Grass': []}\n",
        "surfaces = ['Hard', 'Clay', 'Carpet', 'Grass']\n",
        "for df in l:\n",
        "  lopl['Hard'].append(((len(df[df['Surface'] == 'Hard']))/len(df))*100)\n",
        "  lopl['Clay'].append(((len(df[df['Surface'] == 'Clay']))/len(df))*100)\n",
        "  lopl['Carpet'].append(((len(df[df['Surface'] == 'Carpet']))/len(df))*100)\n",
        "  lopl['Grass'].append(((len(df[df['Surface'] == 'Grass']))/len(df))*100)\n",
        "\n",
        "for i in surfaces:\n",
        "  lopl[i] = np.array(lopl[i])\n",
        "\n",
        "years = np.arange(2000, 2025)\n",
        "\n",
        "fig, ax = plt.subplots()\n",
        "\n",
        "left = np.zeros(len(years))\n",
        "for i, surf in enumerate(surfaces):\n",
        "  ax.barh(years, lopl[surf], label=surf, left=left, color=colours[i])\n",
        "  left += lopl[surf]\n",
        "\n",
        "ax.set_ylabel('Year')\n",
        "ax.set_xlabel('Percentage')\n",
        "ax.set_title('Use of Different Surfaces Changing with Time')\n",
        "ax.legend()\n",
        "\n",
        "plt.show()"
      ]
    },
    {
      "cell_type": "markdown",
      "metadata": {
        "id": "wyor_MTX9wgx"
      },
      "source": [
        "The use of carpet courts has been stopped almost entirely. The use of grass courts has remained almost the same over the years and the use of hard and clay courts has increased."
      ]
    },
    {
      "cell_type": "markdown",
      "metadata": {
        "id": "ThOp9d1qTNhz"
      },
      "source": [
        "##QUESTION 6\n"
      ]
    },
    {
      "cell_type": "markdown",
      "metadata": {
        "id": "s0K_6un7T1ae"
      },
      "source": [
        "Is their any correlation between player height and winning percentage?"
      ]
    },
    {
      "cell_type": "code",
      "execution_count": null,
      "metadata": {
        "colab": {
          "base_uri": "https://localhost:8080/"
        },
        "id": "s2ukaytt-QAR",
        "outputId": "e2290ad1-a9ed-4a6d-9943-221c696bb7f2",
        "cellView": "form"
      },
      "outputs": [
        {
          "output_type": "stream",
          "name": "stdout",
          "text": [
            "The correlation factor between player height and winning percentage is 0.07164.\n"
          ]
        }
      ],
      "source": [
        "# @title ANSWER\n",
        "d = {'Player':[], 'Height':[], 'Winning Percentage':[]}\n",
        "\n",
        "for player in players:\n",
        "  name = player[:(len(player)-1)]\n",
        "  rows = df_pl[df_pl['full_name'] == name]\n",
        "  if not rows.empty:\n",
        "    height = rows.iloc[0]['height_cm']\n",
        "  if not pd.isna(height) and height>50 and height<300:\n",
        "    d['Player'].append(name)\n",
        "    d['Height'].append(height)\n",
        "    d['Winning Percentage'].append(player_win_pc[player])\n",
        "\n",
        "pdpd = pd.DataFrame(d)\n",
        "corr = pdpd['Height'].corr(pdpd['Winning Percentage'])\n",
        "# print(pearson_corr = pdpd['column1'].corr(df['column2'], method='pearson'))\n",
        "# print(len(d['Player']))\n",
        "print('The correlation factor between player height and winning percentage is '+ str(round(corr,5))+'.')"
      ]
    },
    {
      "cell_type": "markdown",
      "metadata": {
        "id": "qoTxLGO1SWLu"
      },
      "source": [
        "This means that the winning percentage of a player practically does not depend on their height."
      ]
    },
    {
      "cell_type": "markdown",
      "metadata": {
        "id": "LZvhTI-ATPxJ"
      },
      "source": [
        "##QUESTION 7"
      ]
    },
    {
      "cell_type": "markdown",
      "source": [
        "What are the winning percentages of the top 5 players on different types of courts?"
      ],
      "metadata": {
        "id": "HJKA2sMgxFY9"
      }
    },
    {
      "cell_type": "code",
      "source": [
        "# @title ANSWER\n",
        "top5 = []\n",
        "for i in player_wp[:5]:\n",
        "  top5.append(i[0])\n",
        "courts = ['Indoor', 'Outdoor']\n",
        "ll = []\n",
        "lol = [] ##\n",
        "\n",
        "def surface_pie(player):\n",
        "  ls = [0, 0]\n",
        "  ll = [0, 0]\n",
        "  for df in l:\n",
        "    ls[0] += len(df[(df['Winner']==player) & (df['Court']==courts[0])])\n",
        "    ls[1] += len(df[(df['Winner']==player) & (df['Court']==courts[1])])\n",
        "    ll[0] += len(df[(df['Winner']==player) & (df['Court']==courts[0])])\n",
        "    ll[1] += len(df[(df['Winner']==player) & (df['Court']==courts[1])])\n",
        "    ll[0] += len(df[(df['Loser']==player) & (df['Court']==courts[0])])\n",
        "    ll[1] += len(df[(df['Loser']==player) & (df['Court']==courts[1])])\n",
        "  for i in range(2):\n",
        "    if ll[i] == 0:\n",
        "      ll[i] = 1\n",
        "  lls = [(ls[0]/ll[0])*100, (ls[1]/ll[1])*100]\n",
        "  lol.append(lls)\n",
        "\n",
        "for i in top5:\n",
        "  surface_pie(i)\n",
        "for i in range(5):\n",
        "  for j in range(2):\n",
        "    lol[i][j] = round(lol[i][j], 2)\n",
        "\n",
        "top_specs = {'Indoor':[], 'Outdoor':[]}\n",
        "colours = ['blue','green']\n",
        "for i in range(5):\n",
        "  top_specs['Indoor'].append(lol[i][0])\n",
        "  top_specs['Outdoor'].append(lol[i][1])\n",
        "\n",
        "x = np.arange(len(top5))*5\n",
        "\n",
        "width = 1\n",
        "multiplier = 0\n",
        "\n",
        "fig, ax = plt.subplots(layout='constrained', figsize = (8,6))\n",
        "\n",
        "for attribute, measurement in top_specs.items():\n",
        "  offset = width * multiplier\n",
        "  rects = ax.bar(x + offset, measurement, width, label=attribute, color = colours[multiplier])\n",
        "  ax.bar_label(rects, padding=3)\n",
        "  multiplier += 1\n",
        "\n",
        "ax.set_ylabel('Percentage')\n",
        "ax.set_title('Winning Percentage on Different Courts')\n",
        "ax.set_xticks(x + width*0.5, top5)\n",
        "ax.legend(loc='upper left', ncols=2)\n",
        "ax.set_ylim(0, 120)\n",
        "\n",
        "plt.show()"
      ],
      "metadata": {
        "colab": {
          "base_uri": "https://localhost:8080/",
          "height": 628
        },
        "cellView": "form",
        "id": "tzmAXiRfxfwL",
        "outputId": "ec17f439-81df-4f33-b638-26f0acb3c0bf"
      },
      "execution_count": null,
      "outputs": [
        {
          "output_type": "display_data",
          "data": {
            "text/plain": [
              "<Figure size 800x600 with 1 Axes>"
            ],
            "image/png": "[encoded data removed]"
          },
          "metadata": {}
        }
      ]
    },
    {
      "cell_type": "markdown",
      "source": [
        "All of the top 5 players are better on outdoor courts but the difference in performance based on court type is not very prominent for Novac Djokovic or Roger Federer indicating their versitality."
      ],
      "metadata": {
        "id": "WAnfswjG0mUS"
      }
    },
    {
      "cell_type": "markdown",
      "metadata": {
        "id": "N6HvAQ_pTX0O"
      },
      "source": [
        "##QUESTION 8"
      ]
    },
    {
      "cell_type": "markdown",
      "metadata": {
        "id": "vANMwC7PSskn"
      },
      "source": [
        "What is the probability of the older player winning?"
      ]
    },
    {
      "cell_type": "code",
      "execution_count": null,
      "metadata": {
        "colab": {
          "base_uri": "https://localhost:8080/"
        },
        "id": "2sBEeVLni6dv",
        "outputId": "47994a57-74fd-4eda-e440-92d118c68410",
        "cellView": "form"
      },
      "outputs": [
        {
          "output_type": "stream",
          "name": "stdout",
          "text": [
            "Probability of the older player winning = 45.3733260666459%\n"
          ]
        }
      ],
      "source": [
        "# @title ANSWER\n",
        "lage = 0\n",
        "ltage = 0\n",
        "year = 2000\n",
        "agesw = []\n",
        "agesl = []\n",
        "for df in l:\n",
        "  for index, row in df.iterrows():\n",
        "    namew = row['Winner']\n",
        "    namel = row['Loser']\n",
        "    rowsw = df_pl[df_pl['full_name'] == namew[:(len(namew)-1)]]\n",
        "    rowsl = df_pl[df_pl['full_name'] == namel[:(len(namel)-1)]]\n",
        "    if (not rowsw.empty) and (not rowsl.empty):\n",
        "       agew = year - rowsw.iloc[0]['birth_year']\n",
        "       agesw.append(agew)\n",
        "       agel = year - rowsl.iloc[0]['birth_year']\n",
        "       agesl.append(agel)\n",
        "       if not pd.isna(agew) and not pd.isna(agel):\n",
        "          if agew > agel:\n",
        "            lage += 1\n",
        "          ltage += 1\n",
        "  year += 1\n",
        "print('Probability of the older player winning = ' + str((lage / ltage) * 100) + '%')"
      ]
    },
    {
      "cell_type": "markdown",
      "metadata": {
        "id": "_zo6IQ7CTaH8"
      },
      "source": [
        "##QUESTION 9"
      ]
    },
    {
      "cell_type": "markdown",
      "metadata": {
        "id": "1Dw8yYVSipMt"
      },
      "source": [
        "What is the probability of the higher ranked player winning?"
      ]
    },
    {
      "cell_type": "code",
      "source": [
        "# @title ANSWER\n",
        "totmat = 0\n",
        "hrwin = 0\n",
        "for df in l:\n",
        "    df = df[pd.to_numeric(df['WRank'], errors='coerce').notna()]\n",
        "    df = df[pd.to_numeric(df['LRank'], errors='coerce').notna()]\n",
        "    df.loc[:, 'WRank'] = pd.to_numeric(df['WRank'])\n",
        "    df.loc[:, 'LRank'] = pd.to_numeric(df['LRank'])\n",
        "    totmat += len(df)\n",
        "    hrwin += (df['WRank'] < df['LRank']).sum()\n",
        "prob = hrwin / totmat\n",
        "print(\"Probability of higher-ranked player winning: \" + str(prob * 100) + '%')"
      ],
      "metadata": {
        "colab": {
          "base_uri": "https://localhost:8080/"
        },
        "cellView": "form",
        "id": "UAw1hbdp4bZy",
        "outputId": "a783f5f8-ac37-45a2-f5d7-3e89b18fad0a"
      },
      "execution_count": null,
      "outputs": [
        {
          "output_type": "stream",
          "name": "stdout",
          "text": [
            "Probability of higher-ranked player winning: 65.05681818181817%\n"
          ]
        }
      ]
    },
    {
      "cell_type": "markdown",
      "source": [
        "These answers indicate that a player's rank is a greater indicator of their chance of winning than their age or experience."
      ],
      "metadata": {
        "id": "endEH_tfDMHI"
      }
    },
    {
      "cell_type": "markdown",
      "metadata": {
        "id": "idpzOONHTcaG"
      },
      "source": [
        "##QUESTION 10"
      ]
    },
    {
      "cell_type": "markdown",
      "source": [
        "How many grand slam tournaments has each player won?"
      ],
      "metadata": {
        "id": "LbF4xmVi7a-n"
      }
    },
    {
      "cell_type": "code",
      "source": [
        "# @title ANSWER\n",
        "lot = ['Australian Open', 'French Open', 'Wimbledon', 'US Open']\n",
        "play_gs = {}\n",
        "for df in l:\n",
        "  dff = df[(df['Tournament'].isin(lot)) & (df['Round']=='The Final')]\n",
        "  for index, row in dff.iterrows():\n",
        "    name = row['Winner']\n",
        "    if name not in play_gs.keys():\n",
        "      play_gs[name] = 1\n",
        "    else:\n",
        "      play_gs[name]+=1\n",
        "print('Number of grand slam tournament wins of each player:')\n",
        "for player, wins in sorted(play_gs.items(), key=lambda x: x[1], reverse=True):\n",
        "    print(f\"{player}: {wins} wins\")"
      ],
      "metadata": {
        "colab": {
          "base_uri": "https://localhost:8080/"
        },
        "cellView": "form",
        "id": "MJ9E6EwS9voS",
        "outputId": "01b1c3ad-62d2-4bc2-f6bb-14fab71d2a6d"
      },
      "execution_count": null,
      "outputs": [
        {
          "output_type": "stream",
          "name": "stdout",
          "text": [
            "Number of grand slam tournament wins of each player:\n",
            "Djokovic N.: 24 wins\n",
            "Nadal R.: 22 wins\n",
            "Federer R.: 20 wins\n",
            "Agassi A.: 3 wins\n",
            "Murray A.: 3 wins\n",
            "Wawrinka S.: 3 wins\n",
            "Kuerten G.: 2 wins\n",
            "Sampras P.: 2 wins\n",
            "Safin M.: 2 wins\n",
            "Hewitt L.: 2 wins\n",
            "Alcaraz C.: 2 wins\n",
            "Ivanisevic G.: 1 wins\n",
            "Johansson T.: 1 wins\n",
            "Costa A.: 1 wins\n",
            "Ferrero J.C.: 1 wins\n",
            "Roddick A.: 1 wins\n",
            "Gaudio G.: 1 wins\n",
            "Del Potro J.M.: 1 wins\n",
            "Cilic M.: 1 wins\n",
            "Thiem D.: 1 wins\n",
            "Medvedev D.: 1 wins\n",
            "Sinner J.: 1 wins\n"
          ]
        }
      ]
    },
    {
      "cell_type": "markdown",
      "source": [
        "Peer discussed with:\n",
        "\n",
        "Aditya Prachand\n",
        "\n",
        "Aditya Baderia\n",
        "\n",
        "Shrutika Yewale"
      ],
      "metadata": {
        "id": "eApDvOvXDxKO"
      }
    }
  ],
  "metadata": {
    "colab": {
      "collapsed_sections": [
        "DOp_ASLDXyje",
        "DBkVB7x1nWTL"
      ],
      "provenance": [],
      "authorship_tag": "ABX9TyPVmsXAFfkSSL5jdSC3a1iA",
      "include_colab_link": true
    },
    "kernelspec": {
      "display_name": "Python 3",
      "name": "python3"
    },
    "language_info": {
      "name": "python"
    }
  },
  "nbformat": 4,
  "nbformat_minor": 0
}